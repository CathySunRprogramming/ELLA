{
 "metadata": {
  "name": ""
 },
 "nbformat": 3,
 "nbformat_minor": 0,
 "worksheets": [
  {
   "cells": [
    {
     "cell_type": "code",
     "collapsed": false,
     "input": [
      "%matplotlib inline\n",
      "from sklearn.cross_validation import train_test_split\n",
      "\n",
      "def multi_task_train_test_split(Xs,Ys,train_size=0.5):\n",
      "    Xs_train = []\n",
      "    Ys_train = []\n",
      "    Xs_test = []\n",
      "    Ys_test = []\n",
      "    for t in range(len(Xs)):\n",
      "        X_train, X_test, y_train, y_test = train_test_split(Xs[t], np.squeeze(Ys[t]), train_size=train_size)\n",
      "        Xs_train.append(X_train)\n",
      "        Xs_test.append(X_test)\n",
      "        Ys_train.append(y_train)\n",
      "        Ys_test.append(y_test)\n",
      "    return Xs_train, Xs_test, Ys_train, Ys_test\n",
      "\n",
      "from ELLA import ELLA\n",
      "from sklearn.linear_model import Ridge, LinearRegression, LogisticRegression\n",
      "from scipy.linalg import norm\n",
      "import numpy as np\n",
      "\n",
      "T = 20\n",
      "d = 10\n",
      "n = 100\n",
      "k = 5\n",
      "noise_var = .1\n",
      "\n",
      "model = ELLA(d,k,Ridge,mu=1,lam=10**-5)\n",
      "\n",
      "S_true = np.random.randn(k,T)\n",
      "L_true = np.random.randn(d,k)\n",
      "w_true = L_true.dot(S_true)\n",
      "\n",
      "# make sure to add a bias term (it is not done automatically)\n",
      "Xs = [np.hstack((np.random.randn(n,d-1), np.ones((n,1)))) for i in range(T)]\n",
      "# generate the synthetic labels\n",
      "Ys = [Xs[i].dot(w_true[:,i]) + noise_var*np.random.randn(n,) for i in range(T)]\n",
      "# break into train and test sets\n",
      "Xs_train, Xs_test, Ys_train, Ys_test = multi_task_train_test_split(Xs,Ys,train_size=0.5)\n",
      "\n",
      "for t in range(T):\n",
      "    model.fit(Xs_train[t], Ys_train[t], t)\n",
      "print \"Average explained variance score\", np.mean([model.score(Xs_test[t], Ys_test[t], t) for t in range(T)])\n",
      "\n",
      "# Try out a classification problem\n",
      "Ys_binarized_train = [Ys_train[i] > 0 for i in range(T)]\n",
      "Ys_binarized_test = [Ys_test[i] > 0 for i in range(T)]\n",
      "\n",
      "model = ELLA(d,k,LogisticRegression,mu=1,lam=10**-5)\n",
      "for t in range(T):\n",
      "    model.fit(Xs_train[t], Ys_binarized_train[t], t)\n",
      "\n",
      "print \"Average classification accuracy\", np.mean([model.score(Xs_test[t], Ys_binarized_test[t], t) for t in range(T)])"
     ],
     "language": "python",
     "metadata": {},
     "outputs": [
      {
       "output_type": "stream",
       "stream": "stdout",
       "text": [
        "Average explained variance score 0.99888805717\n",
        "Average classification accuracy"
       ]
      },
      {
       "output_type": "stream",
       "stream": "stdout",
       "text": [
        " 0.93\n"
       ]
      }
     ],
     "prompt_number": 17
    },
    {
     "cell_type": "code",
     "collapsed": false,
     "input": [
      "from scipy.io import loadmat\n",
      "from sklearn.metrics import roc_auc_score\n",
      "import matplotlib.pyplot as plt\n",
      "\n",
      "data = loadmat('landminedata.mat')\n",
      "\n",
      "Xs_lm = []\n",
      "Ys_lm = []\n",
      "for t in range(data['feature'].shape[1]):\n",
      "    X_t = data['feature'][0,t]\n",
      "    Xs_lm.append(np.hstack((X_t,np.ones((X_t.shape[0],1)))))\n",
      "    Ys_lm.append(data['label'][0,t] == 1.0)\n",
      "\n",
      "d = Xs_lm[0].shape[1]\n",
      "k = 1\n",
      "\n",
      "Xs_lm_train, Xs_lm_test, Ys_lm_train, Ys_lm_test = multi_task_train_test_split(Xs_lm,Ys_lm,train_size=0.5)\n",
      "model = ELLA(d,k,LogisticRegression,{'C':10**0},mu=1,lam=10**-5)\n",
      "for t in range(T):\n",
      "    model.fit(Xs_lm_train[t], Ys_lm_train[t], t)\n",
      "\n",
      "print model.S    \n",
      "\n",
      "print \"Average AUC:\", np.mean([roc_auc_score(Ys_lm_test[t],\n",
      "                                             model.predict_logprobs(Xs_lm_test[t], t))\n",
      "                               for t in range(1)])"
     ],
     "language": "python",
     "metadata": {},
     "outputs": [
      {
       "output_type": "stream",
       "stream": "stdout",
       "text": [
        "[[-0.25055688 -0.20560121 -0.20365742 -0.21245989 -0.21698247 -0.23601616\n",
        "  -0.24421185 -0.22554038 -0.23066699 -0.22268419 -0.21392091 -0.23405816\n",
        "  -0.22486854 -0.25268833 -0.21932059 -0.12965594 -0.15148896 -0.16080457\n",
        "  -0.1635742  -0.1484973 ]]\n",
        "Average AUC: 0.887633193413\n"
       ]
      }
     ],
     "prompt_number": 39
    },
    {
     "cell_type": "code",
     "collapsed": false,
     "input": [],
     "language": "python",
     "metadata": {},
     "outputs": [],
     "prompt_number": 11
    }
   ],
   "metadata": {}
  }
 ]
}