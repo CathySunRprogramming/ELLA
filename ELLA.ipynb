{
 "metadata": {
  "name": ""
 },
 "nbformat": 3,
 "nbformat_minor": 0,
 "worksheets": [
  {
   "cells": [
    {
     "cell_type": "code",
     "collapsed": false,
     "input": [
      "%matplotlib inline\n",
      "\n",
      "from ELLA import ELLA\n",
      "from sklearn.linear_model import Ridge, LinearRegression, LogisticRegression\n",
      "from scipy.linalg import norm\n",
      "import numpy as np\n",
      "from sklearn.metrics import accuracy_score, explained_variance_score\n",
      "\n",
      "T = 20\n",
      "d = 10\n",
      "n = 100\n",
      "k = 20\n",
      "noise_var = .1\n",
      "\n",
      "model = ELLA(d,k,Ridge,mu=1,lam=10**-5)\n",
      "\n",
      "w_true = np.random.randn(d,T)\n",
      "\n",
      "# make sure to add a bias term (it is not done automatically)\n",
      "Xs = [np.hstack((np.random.randn(n,d-1), np.ones((n,1)))) for i in range(T)]\n",
      "Ys = [Xs[i].dot(w_true[:,i]) + noise_var*np.random.randn(n,) for i in range(T)]\n",
      "\n",
      "# try out a regression term\n",
      "for t in range(T):\n",
      "    model.fit(Xs[t], Ys[t], t)\n",
      "\n",
      "for t in range(T):\n",
      "    y_vec = Ys[t][np.newaxis].T\n",
      "    print explained_variance_score(model.predict(Xs[t], t), y_vec)\n",
      "\n",
      "# Try out a classification problem\n",
      "Ys_binarized = [(Xs[i].dot(w_true[:,i]) + noise_var*np.random.randn(n,)) > 0 for i in range(T)]\n",
      "model = ELLA(d,k,LogisticRegression,mu=1,lam=10**-5)\n",
      "for t in range(T):\n",
      "    model.fit(Xs[t], Ys_binarized[t], t)\n",
      "\n",
      "for t in range(T):\n",
      "    y_vec = Ys_binarized[t]\n",
      "    preds = model.predict(Xs[t], t)\n",
      "    print accuracy_score(preds[:,0] > 0.5, y_vec)"
     ],
     "language": "python",
     "metadata": {},
     "outputs": [
      {
       "output_type": "stream",
       "stream": "stdout",
       "text": [
        "0.998986620252\n",
        "0.99861320318\n",
        "0.998668792813\n",
        "0.999054195298\n",
        "0.997315235862\n",
        "0.999301926047\n",
        "0.996886706251\n",
        "0.998349986104\n",
        "0.999251216335\n",
        "0.997950443202\n",
        "0.998924531753\n",
        "0.998192231679\n",
        "0.998378238477\n",
        "0.99895639353\n",
        "0.998643480683\n",
        "0.998759081352\n",
        "0.998020401159\n",
        "0.998387508036\n",
        "0.998747625328\n",
        "0.999040264038\n",
        "1.0"
       ]
      },
      {
       "output_type": "stream",
       "stream": "stdout",
       "text": [
        "\n",
        "0.97\n",
        "0.98\n",
        "1.0\n",
        "0.99\n",
        "0.98\n",
        "0.98\n",
        "0.98\n",
        "0.99\n",
        "0.99\n",
        "0.99\n",
        "0.99\n",
        "0.98\n",
        "0.99\n",
        "0.99\n",
        "0.99\n",
        "0.99\n",
        "1.0\n",
        "1.0\n",
        "1.0\n"
       ]
      }
     ],
     "prompt_number": 6
    },
    {
     "cell_type": "code",
     "collapsed": false,
     "input": [],
     "language": "python",
     "metadata": {},
     "outputs": [
      {
       "metadata": {},
       "output_type": "pyout",
       "prompt_number": 215,
       "text": [
        "19"
       ]
      }
     ],
     "prompt_number": 215
    },
    {
     "cell_type": "code",
     "collapsed": false,
     "input": [],
     "language": "python",
     "metadata": {},
     "outputs": []
    }
   ],
   "metadata": {}
  }
 ]
}