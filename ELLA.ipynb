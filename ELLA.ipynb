{
 "metadata": {
  "name": ""
 },
 "nbformat": 3,
 "nbformat_minor": 0,
 "worksheets": [
  {
   "cells": [
    {
     "cell_type": "code",
     "collapsed": false,
     "input": [
      "%matplotlib inline\n",
      "\n",
      "from ELLA import ELLA\n",
      "from sklearn.linear_model import Ridge, LinearRegression, LogisticRegression\n",
      "from scipy.linalg import norm\n",
      "import numpy as np\n",
      "\n",
      "T = 20\n",
      "d = 10\n",
      "n = 100\n",
      "k = 5\n",
      "noise_var = .1\n",
      "\n",
      "model = ELLA(d,k,Ridge,mu=1,lam=10**-5)\n",
      "\n",
      "S_true = np.random.randn(k,T)\n",
      "L_true = np.random.randn(d,k)\n",
      "w_true = L_true.dot(S_true)\n",
      "\n",
      "# make sure to add a bias term (it is not done automatically)\n",
      "Xs = [np.hstack((np.random.randn(n,d-1), np.ones((n,1)))) for i in range(T)]\n",
      "Ys = [Xs[i].dot(w_true[:,i]) + noise_var*np.random.randn(n,) for i in range(T)]\n",
      "\n",
      "# try out a regression term\n",
      "for t in range(T):\n",
      "    model.fit(Xs[t], Ys[t], t)\n",
      "\n",
      "for t in range(T):\n",
      "    y_vec = Ys[t][np.newaxis].T\n",
      "    print \"Explained variance score\", model.score(Xs[t], Ys[t], t)\n",
      "\n",
      "# Try out a classification problem\n",
      "Ys_binarized = [(Xs[i].dot(w_true[:,i]) + noise_var*np.random.randn(n,)) > 0 for i in range(T)]\n",
      "model = ELLA(d,k,LogisticRegression,mu=1,lam=10**-5)\n",
      "for t in range(T):\n",
      "    model.fit(Xs[t], Ys_binarized[t], t)\n",
      "\n",
      "for t in range(T):\n",
      "    y_vec = Ys_binarized[t]\n",
      "    preds = model.predict(Xs[t], t)\n",
      "    print \"Classification accuracy\", model.score(Xs[t], Ys_binarized[t], t)"
     ],
     "language": "python",
     "metadata": {},
     "outputs": [
      {
       "output_type": "stream",
       "stream": "stdout",
       "text": [
        " Explained variance score 0.999822494259\n",
        "Explained variance score 0.999451688818\n",
        "Explained variance score 0.99979502152\n",
        "Explained variance score 0.999539739602\n",
        "Explained variance score 0.999515574199\n",
        "Explained variance score 0.999731444304\n",
        "Explained variance score 0.999659959013\n",
        "Explained variance score 0.999508424387\n",
        "Explained variance score 0.999691578951\n",
        "Explained variance score 0.999520359492\n",
        "Explained variance score 0.999745148924\n",
        "Explained variance score 0.999539217925\n",
        "Explained variance score 0.999734170926\n",
        "Explained variance score 0.998392508664\n",
        "Explained variance score 0.999827352641\n",
        "Explained variance score 0.999757463121\n",
        "Explained variance score 0.999386040276\n",
        "Explained variance score 0.999488135487\n",
        "Explained variance score 0.999611278751\n",
        "Explained variance score 0.999688155896\n",
        "Classification accuracy"
       ]
      },
      {
       "output_type": "stream",
       "stream": "stdout",
       "text": [
        " 0.98\n",
        "Classification accuracy 0.99\n",
        "Classification accuracy 1.0\n",
        "Classification accuracy 0.96\n",
        "Classification accuracy 1.0\n",
        "Classification accuracy 0.95\n",
        "Classification accuracy 0.97\n",
        "Classification accuracy 0.99\n",
        "Classification accuracy 1.0\n",
        "Classification accuracy 0.99\n",
        "Classification accuracy 0.98\n",
        "Classification accuracy 0.97\n",
        "Classification accuracy 0.99\n",
        "Classification accuracy 0.98\n",
        "Classification accuracy 0.99\n",
        "Classification accuracy 0.98\n",
        "Classification accuracy 0.96\n",
        "Classification accuracy 0.98\n",
        "Classification accuracy 0.98\n",
        "Classification accuracy 0.96\n"
       ]
      }
     ],
     "prompt_number": 8
    },
    {
     "cell_type": "code",
     "collapsed": false,
     "input": [],
     "language": "python",
     "metadata": {},
     "outputs": [
      {
       "metadata": {},
       "output_type": "pyout",
       "prompt_number": 215,
       "text": [
        "19"
       ]
      }
     ],
     "prompt_number": 215
    },
    {
     "cell_type": "code",
     "collapsed": false,
     "input": [],
     "language": "python",
     "metadata": {},
     "outputs": []
    }
   ],
   "metadata": {}
  }
 ]
}